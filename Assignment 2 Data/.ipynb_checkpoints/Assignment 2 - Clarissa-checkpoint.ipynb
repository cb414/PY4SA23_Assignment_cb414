{
 "cells": [
  {
   "cell_type": "markdown",
   "id": "6a04df4e-40ec-4d29-a440-fabeb30841e9",
   "metadata": {},
   "source": [
    "## Lab Assignment 2 - Clarissa Bell\n",
    "### Matricuation ID: 200023718\n",
    "Repo URL: https://github.com/cb414/PY4SA23_Assignment_cb414 "
   ]
  },
  {
   "cell_type": "markdown",
   "id": "c31c512f-3581-4b5b-8585-42b43f87eb87",
   "metadata": {},
   "source": [
    "#### Python Basics Task 1: Create an if...else statement that will test whether a number is divisable by 3"
   ]
  },
  {
   "cell_type": "code",
   "execution_count": 1,
   "id": "611c3503-233c-4f3f-8ed0-f9c50a062016",
   "metadata": {},
   "outputs": [
    {
     "name": "stdout",
     "output_type": "stream",
     "text": [
      "18 is divisable by 3.\n"
     ]
    }
   ],
   "source": [
    "x = 18\n",
    "if x%3 == 0:\n",
    "    print(x, \"is divisable by 3.\")\n",
    "else:\n",
    "    print(x, \"is not divisbable by 3.\")"
   ]
  },
  {
   "cell_type": "markdown",
   "id": "f82144b3-fc30-45b7-a8b4-594a41d93182",
   "metadata": {},
   "source": [
    "#### Python Basics Task 2: Create an if...else statement that will test if a fruit is in an acceptable list of fruits"
   ]
  },
  {
   "cell_type": "code",
   "execution_count": 2,
   "id": "0df88ec2-4d85-4d21-95ac-4aad54aa38d5",
   "metadata": {},
   "outputs": [
    {
     "name": "stdout",
     "output_type": "stream",
     "text": [
      "raspberry is not acceptable.\n"
     ]
    }
   ],
   "source": [
    "y = \"raspberry\"\n",
    "fruits = [\"apple\", \"orange\", \"pear\", \"kiwi\", \"strawberry\"]\n",
    "\n",
    "if y == fruits:\n",
    "    print(y, \"is acceptable.\")\n",
    "else: \n",
    "    print(y, \"is not acceptable.\")"
   ]
  },
  {
   "cell_type": "markdown",
   "id": "6ca3c21b-2f55-49ed-a46d-029e50161641",
   "metadata": {},
   "source": [
    "#### Python Basics Task 3: Create a function to calculate the distance between two coordinates using the haversine formula"
   ]
  },
  {
   "cell_type": "code",
   "execution_count": null,
   "id": "4cd6c1a7-4335-4fbd-9a3b-6c2bc1a479d8",
   "metadata": {},
   "outputs": [],
   "source": [
    "def "
   ]
  },
  {
   "cell_type": "markdown",
   "id": "3568bdda-e3bf-4b2f-a6ac-cf1be314cf6b",
   "metadata": {},
   "source": [
    "#### Pandas and Numpy Q1: how many trees are there of the Quercus or Acer genus?"
   ]
  },
  {
   "cell_type": "code",
   "execution_count": null,
   "id": "24163818-1a15-498b-a76c-70beac228bb3",
   "metadata": {},
   "outputs": [],
   "source": []
  },
  {
   "cell_type": "code",
   "execution_count": null,
   "id": "8a22d825-fa22-4864-979a-867db838c46f",
   "metadata": {},
   "outputs": [],
   "source": []
  },
  {
   "cell_type": "code",
   "execution_count": null,
   "id": "7ae32e35-4ae0-42e0-ada9-61f49167b00c",
   "metadata": {},
   "outputs": [],
   "source": []
  },
  {
   "cell_type": "code",
   "execution_count": null,
   "id": "7d57e9ab-176d-4060-96d9-c0be64bb691b",
   "metadata": {},
   "outputs": [],
   "source": []
  },
  {
   "cell_type": "code",
   "execution_count": null,
   "id": "2dd7b1d3-df22-4c2f-acaf-f05055c48e00",
   "metadata": {},
   "outputs": [],
   "source": []
  },
  {
   "cell_type": "code",
   "execution_count": null,
   "id": "dda4d589-1515-4b7d-9b41-ee1180589dde",
   "metadata": {},
   "outputs": [],
   "source": []
  }
 ],
 "metadata": {
  "kernelspec": {
   "display_name": "Python 3 (ipykernel)",
   "language": "python",
   "name": "python3"
  },
  "language_info": {
   "codemirror_mode": {
    "name": "ipython",
    "version": 3
   },
   "file_extension": ".py",
   "mimetype": "text/x-python",
   "name": "python",
   "nbconvert_exporter": "python",
   "pygments_lexer": "ipython3",
   "version": "3.10.9"
  }
 },
 "nbformat": 4,
 "nbformat_minor": 5
}
